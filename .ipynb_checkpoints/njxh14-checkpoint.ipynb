{
 "cells": [
  {
   "cell_type": "code",
   "execution_count": 1,
   "metadata": {},
   "outputs": [],
   "source": [
    "import pandas as pd\n",
    "import numpy as np\n",
    "sname=[str(i)+\"月\" for i in range(1,13)]"
   ]
  },
  {
   "cell_type": "code",
   "execution_count": 2,
   "metadata": {},
   "outputs": [],
   "source": [
    "data=pd.read_excel(\"./南京新华学校原数据/南京新华2014年市场部日报.xls\",sheet_name=sname[0],header=None)"
   ]
  },
  {
   "cell_type": "code",
   "execution_count": 3,
   "metadata": {},
   "outputs": [],
   "source": [
    "def getValues(n):\n",
    "    date=data.values[:,0][4:n]\n",
    "    d={}\n",
    "    s=['总计','电话','网络有效信息','网络信息总量','上门']\n",
    "    for i in range(5):\n",
    "        d[s[i]]=data.values[:,11+i][4:]\n",
    "    return date,d,s"
   ]
  },
  {
   "cell_type": "code",
   "execution_count": 4,
   "metadata": {},
   "outputs": [],
   "source": [
    "data,d,s=getValues(33)"
   ]
  },
  {
   "cell_type": "code",
   "execution_count": 5,
   "metadata": {},
   "outputs": [
    {
     "data": {
      "text/plain": [
       "'总计'"
      ]
     },
     "execution_count": 5,
     "metadata": {},
     "output_type": "execute_result"
    }
   ],
   "source": [
    "list(d.keys())[0]\n"
   ]
  },
  {
   "cell_type": "code",
   "execution_count": 6,
   "metadata": {},
   "outputs": [],
   "source": [
    "from pyecharts import Bar, Line, Grid\n",
    "from pyecharts import Page\n",
    "grid = Page()"
   ]
  },
  {
   "cell_type": "code",
   "execution_count": 7,
   "metadata": {},
   "outputs": [],
   "source": [
    "bar = Bar(\"2014年1月咨询量\",height=800,width=1600)\n",
    "for i in range(5):\n",
    "        #print(list(d.keys())[i], data, d[list(d.keys())[i]])\n",
    "    bar.add(list(d.keys())[i], data, d[list(d.keys())[i]], is_datazoom_show=True, datazoom_type='both', datazoom_range=[10, 25],mark_line=[\"average\"], mark_point=[\"max\", \"min\"])\n",
    "bar.render(\"2014年1月.html\")\n",
    "grid.add(bar)"
   ]
  },
  {
   "cell_type": "code",
   "execution_count": 8,
   "metadata": {},
   "outputs": [],
   "source": [
    "data=pd.read_excel(\"./南京新华学校原数据/南京新华2014年市场部日报.xls\",sheet_name=sname[1],header=None)\n",
    "data,d,s=getValues(34)\n",
    "bar = Bar(\"2014年2月咨询量\",height=800,width=1600)\n",
    "for i in range(5):\n",
    "        #print(list(d.keys())[i], data, d[list(d.keys())[i]])\n",
    "    bar.add(list(d.keys())[i], data, d[list(d.keys())[i]], is_datazoom_show=True, datazoom_type='both', datazoom_range=[10, 25],mark_line=[\"average\"], mark_point=[\"max\", \"min\"])\n",
    "bar.render(\"2014年2月.html\")\n",
    "grid.add(bar)"
   ]
  },
  {
   "cell_type": "code",
   "execution_count": 9,
   "metadata": {},
   "outputs": [],
   "source": [
    "data=pd.read_excel(\"./南京新华学校原数据/南京新华2014年市场部日报.xls\",sheet_name=sname[2],header=None)\n",
    "data,d,s=getValues(35)\n",
    "bar = Bar(\"2014年3月咨询量\",height=800,width=1600)\n",
    "for i in range(5):\n",
    "        #print(list(d.keys())[i], data, d[list(d.keys())[i]])\n",
    "    bar.add(list(d.keys())[i], data, d[list(d.keys())[i]], is_datazoom_show=True, datazoom_type='both', datazoom_range=[10, 25],mark_line=[\"average\"], mark_point=[\"max\", \"min\"])\n",
    "bar.render(\"2014年3月.html\")\n",
    "grid.add(bar)"
   ]
  },
  {
   "cell_type": "code",
   "execution_count": 10,
   "metadata": {},
   "outputs": [],
   "source": [
    "data=pd.read_excel(\"./南京新华学校原数据/南京新华2014年市场部日报.xls\",sheet_name=sname[3],header=None)\n",
    "data,d,s=getValues(34)\n",
    "bar = Bar(\"2014年4月咨询量\",height=800,width=1600)\n",
    "for i in range(5):\n",
    "        #print(list(d.keys())[i], data, d[list(d.keys())[i]])\n",
    "    bar.add(list(d.keys())[i], data, d[list(d.keys())[i]], is_datazoom_show=True, datazoom_type='both', datazoom_range=[10, 25],mark_line=[\"average\"], mark_point=[\"max\", \"min\"])\n",
    "bar.render(\"2014年4月.html\")\n",
    "grid.add(bar)"
   ]
  },
  {
   "cell_type": "code",
   "execution_count": 11,
   "metadata": {},
   "outputs": [],
   "source": [
    "data=pd.read_excel(\"./南京新华学校原数据/南京新华2014年市场部日报.xls\",sheet_name=sname[4],header=None)\n",
    "data,d,s=getValues(35)\n",
    "bar = Bar(\"2014年5月咨询量\",height=800,width=1600)\n",
    "for i in range(5):\n",
    "        #print(list(d.keys())[i], data, d[list(d.keys())[i]])\n",
    "    bar.add(list(d.keys())[i], data, d[list(d.keys())[i]], is_datazoom_show=True, datazoom_type='both', datazoom_range=[10, 25],mark_line=[\"average\"], mark_point=[\"max\", \"min\"])\n",
    "bar.render(\"2014年5月.html\")\n",
    "grid.add(bar)"
   ]
  },
  {
   "cell_type": "code",
   "execution_count": 12,
   "metadata": {},
   "outputs": [],
   "source": [
    "data=pd.read_excel(\"./南京新华学校原数据/南京新华2014年市场部日报.xls\",sheet_name=sname[5],header=None)\n",
    "data,d,s=getValues(34)\n",
    "bar = Bar(\"2014年6月咨询量\",height=800,width=1600)\n",
    "for i in range(5):\n",
    "        #print(list(d.keys())[i], data, d[list(d.keys())[i]])\n",
    "    bar.add(list(d.keys())[i], data, d[list(d.keys())[i]], is_datazoom_show=True, datazoom_type='both', datazoom_range=[10, 25],mark_line=[\"average\"], mark_point=[\"max\", \"min\"])\n",
    "bar.render(\"2014年6月.html\")\n",
    "grid.add(bar)"
   ]
  },
  {
   "cell_type": "code",
   "execution_count": 13,
   "metadata": {},
   "outputs": [],
   "source": [
    "data=pd.read_excel(\"./南京新华学校原数据/南京新华2014年市场部日报.xls\",sheet_name=sname[6],header=None)\n",
    "data,d,s=getValues(35)\n",
    "bar = Bar(\"2014年7月咨询量\",height=800,width=1600)\n",
    "for i in range(5):\n",
    "        #print(list(d.keys())[i], data, d[list(d.keys())[i]])\n",
    "    bar.add(list(d.keys())[i], data, d[list(d.keys())[i]], is_datazoom_show=True, datazoom_type='both', datazoom_range=[10, 25],mark_line=[\"average\"], mark_point=[\"max\", \"min\"])\n",
    "bar.render(\"2014年7月.html\")\n",
    "grid.add(bar)"
   ]
  },
  {
   "cell_type": "code",
   "execution_count": 25,
   "metadata": {},
   "outputs": [],
   "source": [
    "data=pd.read_excel(\"./南京新华学校原数据/南京新华2014年市场部日报.xls\",sheet_name=sname[7],header=None)\n",
    "data,d,s=getValues(35)\n",
    "bar = Bar(\"2014年8月咨询量\",height=800,width=1600)\n",
    "for i in range(5):\n",
    "        #print(list(d.keys())[i], data, d[list(d.keys())[i]])\n",
    "    bar.add(list(d.keys())[i], data, d[list(d.keys())[i]], is_datazoom_show=True, datazoom_type='both', datazoom_range=[10, 25],mark_line=[\"average\"], mark_point=[\"max\", \"min\"])\n",
    "bar.render(\"2014年8月.html\")\n",
    "grid.add(bar)"
   ]
  },
  {
   "cell_type": "code",
   "execution_count": 26,
   "metadata": {},
   "outputs": [],
   "source": [
    "data=pd.read_excel(\"./南京新华学校原数据/南京新华2014年市场部日报.xls\",sheet_name=sname[8],header=None)\n",
    "data,d,s=getValues(34)\n",
    "bar = Bar(\"2014年9月咨询量\",height=800,width=1600)\n",
    "for i in range(5):\n",
    "        #print(list(d.keys())[i], data, d[list(d.keys())[i]])\n",
    "    bar.add(list(d.keys())[i], data, d[list(d.keys())[i]], is_datazoom_show=True, datazoom_type='both', datazoom_range=[10, 25],mark_line=[\"average\"], mark_point=[\"max\", \"min\"])\n",
    "bar.render(\"2014年9月.html\")\n",
    "grid.add(bar)"
   ]
  },
  {
   "cell_type": "code",
   "execution_count": 27,
   "metadata": {},
   "outputs": [],
   "source": [
    "data=pd.read_excel(\"./南京新华学校原数据/南京新华2014年市场部日报.xls\",sheet_name=sname[9],header=None)\n",
    "data,d,s=getValues(35)\n",
    "bar = Bar(\"2014年10月咨询量\",height=800,width=1600)\n",
    "for i in range(5):\n",
    "        #print(list(d.keys())[i], data, d[list(d.keys())[i]])\n",
    "    bar.add(list(d.keys())[i], data, d[list(d.keys())[i]], is_datazoom_show=True, datazoom_type='both', datazoom_range=[10, 25],mark_line=[\"average\"], mark_point=[\"max\", \"min\"])\n",
    "bar.render(\"2014年10月.html\")\n",
    "grid.add(bar)"
   ]
  },
  {
   "cell_type": "code",
   "execution_count": 28,
   "metadata": {},
   "outputs": [],
   "source": [
    "data=pd.read_excel(\"./南京新华学校原数据/南京新华2014年市场部日报.xls\",sheet_name=sname[10],header=None)\n",
    "data,d,s=getValues(34)\n",
    "bar = Bar(\"2014年11月咨询量\",height=800,width=1600)\n",
    "for i in range(5):\n",
    "        #print(list(d.keys())[i], data, d[list(d.keys())[i]])\n",
    "    bar.add(list(d.keys())[i], data, d[list(d.keys())[i]], is_datazoom_show=True, datazoom_type='both', datazoom_range=[10, 25],mark_line=[\"average\"], mark_point=[\"max\", \"min\"])\n",
    "bar.render(\"2014年11月.html\")\n",
    "grid.add(bar)"
   ]
  },
  {
   "cell_type": "code",
   "execution_count": 29,
   "metadata": {},
   "outputs": [],
   "source": [
    "data=pd.read_excel(\"./南京新华学校原数据/南京新华2014年市场部日报.xls\",sheet_name=sname[11],header=None)\n",
    "data,d,s=getValues(35)\n",
    "bar = Bar(\"2014年12月咨询量\",height=800,width=1600)\n",
    "for i in range(5):\n",
    "        #print(list(d.keys())[i], data, d[list(d.keys())[i]])\n",
    "    bar.add(list(d.keys())[i], data, d[list(d.keys())[i]], is_datazoom_show=True, datazoom_type='both', datazoom_range=[10, 25],mark_line=[\"average\"], mark_point=[\"max\", \"min\"])\n",
    "bar.render(\"2014年12月.html\")\n",
    "grid.add(bar)"
   ]
  },
  {
   "cell_type": "code",
   "execution_count": 30,
   "metadata": {},
   "outputs": [],
   "source": [
    "grid.render(\"2014年.html\")"
   ]
  }
 ],
 "metadata": {
  "kernelspec": {
   "display_name": "Python 3",
   "language": "python",
   "name": "python3"
  },
  "language_info": {
   "codemirror_mode": {
    "name": "ipython",
    "version": 3
   },
   "file_extension": ".py",
   "mimetype": "text/x-python",
   "name": "python",
   "nbconvert_exporter": "python",
   "pygments_lexer": "ipython3",
   "version": "3.6.3"
  }
 },
 "nbformat": 4,
 "nbformat_minor": 2
}
