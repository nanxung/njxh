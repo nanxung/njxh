{
 "cells": [
  {
   "cell_type": "code",
   "execution_count": 10,
   "metadata": {},
   "outputs": [],
   "source": [
    "import pandas as pd\n",
    "import numpy as np\n",
    "sname=[str(i)+\"月\" for i in range(1,13)]"
   ]
  },
  {
   "cell_type": "code",
   "execution_count": 11,
   "metadata": {},
   "outputs": [],
   "source": [
    "data=pd.read_excel(\"./南京新华2015年市场部日报.xls\",sheet_name=sname[0],header=None)"
   ]
  },
  {
   "cell_type": "code",
   "execution_count": 12,
   "metadata": {},
   "outputs": [],
   "source": [
    "date=data.values[:,0][1:32]"
   ]
  },
  {
   "cell_type": "code",
   "execution_count": 13,
   "metadata": {},
   "outputs": [],
   "source": [
    "def getValues(n):\n",
    "    date=data.values[:,0][4:n]\n",
    "    d={}\n",
    "    s=['移动端','网络端','上门量']\n",
    "    for i in range(3):\n",
    "        d[s[i]]=data.values[:,1+i][1:n]\n",
    "    return date,d,s"
   ]
  },
  {
   "cell_type": "code",
   "execution_count": 14,
   "metadata": {},
   "outputs": [],
   "source": [
    "data,d,s=getValues(32)"
   ]
  },
  {
   "cell_type": "code",
   "execution_count": 15,
   "metadata": {},
   "outputs": [
    {
     "data": {
      "text/plain": [
       "'移动端'"
      ]
     },
     "execution_count": 15,
     "metadata": {},
     "output_type": "execute_result"
    }
   ],
   "source": [
    "list(d.keys())[0]\n"
   ]
  },
  {
   "cell_type": "code",
   "execution_count": 16,
   "metadata": {},
   "outputs": [],
   "source": [
    "from pyecharts import Bar, Line, Grid\n",
    "from pyecharts import Page\n",
    "grid = Page()"
   ]
  },
  {
   "cell_type": "code",
   "execution_count": 7,
   "metadata": {},
   "outputs": [],
   "source": [
    "bar = Bar(\"2015年1月咨询量\",height=800,width=1600)\n",
    "for i in range(5):\n",
    "        #print(list(d.keys())[i], data, d[list(d.keys())[i]])\n",
    "    bar.add(list(d.keys())[i], data, d[list(d.keys())[i]], is_datazoom_show=True, datazoom_type='both', datazoom_range=[10, 25],mark_line=[\"average\"], mark_point=[\"max\", \"min\"])\n",
    "bar.render(\"2015年1月.html\")\n",
    "grid.add(bar)"
   ]
  },
  {
   "cell_type": "code",
   "execution_count": 8,
   "metadata": {},
   "outputs": [],
   "source": [
    "data=pd.read_excel(\"./南京新华学校原数据/南京新华2014年市场部日报.xls\",sheet_name=sname[1],header=None)\n",
    "data,d,s=getValues(34)\n",
    "bar = Bar(\"2015年2月咨询量\",height=800,width=1600)\n",
    "for i in range(5):\n",
    "        #print(list(d.keys())[i], data, d[list(d.keys())[i]])\n",
    "    bar.add(list(d.keys())[i], data, d[list(d.keys())[i]], is_datazoom_show=True, datazoom_type='both', datazoom_range=[10, 25],mark_line=[\"average\"], mark_point=[\"max\", \"min\"])\n",
    "bar.render(\"2015年2月.html\")\n",
    "grid.add(bar)"
   ]
  },
  {
   "cell_type": "code",
   "execution_count": 9,
   "metadata": {},
   "outputs": [],
   "source": [
    "data=pd.read_excel(\"./南京新华学校原数据/南京新华2014年市场部日报.xls\",sheet_name=sname[2],header=None)\n",
    "data,d,s=getValues(35)\n",
    "bar = Bar(\"2015年3月咨询量\",height=800,width=1600)\n",
    "for i in range(5):\n",
    "        #print(list(d.keys())[i], data, d[list(d.keys())[i]])\n",
    "    bar.add(list(d.keys())[i], data, d[list(d.keys())[i]], is_datazoom_show=True, datazoom_type='both', datazoom_range=[10, 25],mark_line=[\"average\"], mark_point=[\"max\", \"min\"])\n",
    "bar.render(\"2015年3月.html\")\n",
    "grid.add(bar)"
   ]
  },
  {
   "cell_type": "code",
   "execution_count": 10,
   "metadata": {},
   "outputs": [],
   "source": [
    "data=pd.read_excel(\"./南京新华学校原数据/南京新华2014年市场部日报.xls\",sheet_name=sname[3],header=None)\n",
    "data,d,s=getValues(34)\n",
    "bar = Bar(\"2015年4月咨询量\",height=800,width=1600)\n",
    "for i in range(5):\n",
    "        #print(list(d.keys())[i], data, d[list(d.keys())[i]])\n",
    "    bar.add(list(d.keys())[i], data, d[list(d.keys())[i]], is_datazoom_show=True, datazoom_type='both', datazoom_range=[10, 25],mark_line=[\"average\"], mark_point=[\"max\", \"min\"])\n",
    "bar.render(\"2015年4月.html\")\n",
    "grid.add(bar)"
   ]
  },
  {
   "cell_type": "code",
   "execution_count": 11,
   "metadata": {},
   "outputs": [],
   "source": [
    "data=pd.read_excel(\"./南京新华学校原数据/南京新华2014年市场部日报.xls\",sheet_name=sname[4],header=None)\n",
    "data,d,s=getValues(35)\n",
    "bar = Bar(\"2015年5月咨询量\",height=800,width=1600)\n",
    "for i in range(5):\n",
    "        #print(list(d.keys())[i], data, d[list(d.keys())[i]])\n",
    "    bar.add(list(d.keys())[i], data, d[list(d.keys())[i]], is_datazoom_show=True, datazoom_type='both', datazoom_range=[10, 25],mark_line=[\"average\"], mark_point=[\"max\", \"min\"])\n",
    "bar.render(\"2015年5月.html\")\n",
    "grid.add(bar)"
   ]
  },
  {
   "cell_type": "code",
   "execution_count": 12,
   "metadata": {},
   "outputs": [],
   "source": [
    "data=pd.read_excel(\"./南京新华学校原数据/南京新华2014年市场部日报.xls\",sheet_name=sname[5],header=None)\n",
    "data,d,s=getValues(34)\n",
    "bar = Bar(\"2015年6月咨询量\",height=800,width=1600)\n",
    "for i in range(5):\n",
    "        #print(list(d.keys())[i], data, d[list(d.keys())[i]])\n",
    "    bar.add(list(d.keys())[i], data, d[list(d.keys())[i]], is_datazoom_show=True, datazoom_type='both', datazoom_range=[10, 25],mark_line=[\"average\"], mark_point=[\"max\", \"min\"])\n",
    "bar.render(\"2015年6月.html\")\n",
    "grid.add(bar)"
   ]
  },
  {
   "cell_type": "code",
   "execution_count": 13,
   "metadata": {},
   "outputs": [],
   "source": [
    "data=pd.read_excel(\"./南京新华学校原数据/南京新华2014年市场部日报.xls\",sheet_name=sname[6],header=None)\n",
    "data,d,s=getValues(35)\n",
    "bar = Bar(\"2015年7月咨询量\",height=800,width=1600)\n",
    "for i in range(5):\n",
    "        #print(list(d.keys())[i], data, d[list(d.keys())[i]])\n",
    "    bar.add(list(d.keys())[i], data, d[list(d.keys())[i]], is_datazoom_show=True, datazoom_type='both', datazoom_range=[10, 25],mark_line=[\"average\"], mark_point=[\"max\", \"min\"])\n",
    "bar.render(\"2015年7月.html\")\n",
    "grid.add(bar)"
   ]
  },
  {
   "cell_type": "code",
   "execution_count": 14,
   "metadata": {},
   "outputs": [],
   "source": [
    "data=pd.read_excel(\"./南京新华学校原数据/南京新华2014年市场部日报.xls\",sheet_name=sname[7],header=None)\n",
    "data,d,s=getValues(35)\n",
    "bar = Bar(\"2015年8月咨询量\",height=800,width=1600)\n",
    "for i in range(5):\n",
    "        #print(list(d.keys())[i], data, d[list(d.keys())[i]])\n",
    "    bar.add(list(d.keys())[i], data, d[list(d.keys())[i]], is_datazoom_show=True, datazoom_type='both', datazoom_range=[10, 25],mark_line=[\"average\"], mark_point=[\"max\", \"min\"])\n",
    "bar.render(\"2015年8月.html\")\n",
    "grid.add(bar)"
   ]
  },
  {
   "cell_type": "code",
   "execution_count": 15,
   "metadata": {},
   "outputs": [],
   "source": [
    "data=pd.read_excel(\"./南京新华学校原数据/南京新华2014年市场部日报.xls\",sheet_name=sname[8],header=None)\n",
    "data,d,s=getValues(34)\n",
    "bar = Bar(\"2015年9月咨询量\",height=800,width=1600)\n",
    "for i in range(5):\n",
    "        #print(list(d.keys())[i], data, d[list(d.keys())[i]])\n",
    "    bar.add(list(d.keys())[i], data, d[list(d.keys())[i]], is_datazoom_show=True, datazoom_type='both', datazoom_range=[10, 25],mark_line=[\"average\"], mark_point=[\"max\", \"min\"])\n",
    "bar.render(\"2015年9月.html\")\n",
    "grid.add(bar)"
   ]
  },
  {
   "cell_type": "code",
   "execution_count": 16,
   "metadata": {},
   "outputs": [],
   "source": [
    "data=pd.read_excel(\"./南京新华学校原数据/南京新华2014年市场部日报.xls\",sheet_name=sname[9],header=None)\n",
    "data,d,s=getValues(35)\n",
    "bar = Bar(\"2015年10月咨询量\",height=800,width=1600)\n",
    "for i in range(5):\n",
    "        #print(list(d.keys())[i], data, d[list(d.keys())[i]])\n",
    "    bar.add(list(d.keys())[i], data, d[list(d.keys())[i]], is_datazoom_show=True, datazoom_type='both', datazoom_range=[10, 25],mark_line=[\"average\"], mark_point=[\"max\", \"min\"])\n",
    "bar.render(\"2015年10月.html\")\n",
    "grid.add(bar)"
   ]
  },
  {
   "cell_type": "code",
   "execution_count": 17,
   "metadata": {},
   "outputs": [],
   "source": [
    "data=pd.read_excel(\"./南京新华学校原数据/南京新华2014年市场部日报.xls\",sheet_name=sname[10],header=None)\n",
    "data,d,s=getValues(34)\n",
    "bar = Bar(\"2015年11月咨询量\",height=800,width=1600)\n",
    "for i in range(5):\n",
    "        #print(list(d.keys())[i], data, d[list(d.keys())[i]])\n",
    "    bar.add(list(d.keys())[i], data, d[list(d.keys())[i]], is_datazoom_show=True, datazoom_type='both', datazoom_range=[10, 25],mark_line=[\"average\"], mark_point=[\"max\", \"min\"])\n",
    "bar.render(\"2015年11月.html\")\n",
    "grid.add(bar)"
   ]
  },
  {
   "cell_type": "code",
   "execution_count": 18,
   "metadata": {},
   "outputs": [],
   "source": [
    "data=pd.read_excel(\"./南京新华学校原数据/南京新华2014年市场部日报.xls\",sheet_name=sname[11],header=None)\n",
    "data,d,s=getValues(35)\n",
    "bar = Bar(\"2015年12月咨询量\",height=800,width=1600)\n",
    "for i in range(5):\n",
    "        #print(list(d.keys())[i], data, d[list(d.keys())[i]])\n",
    "    bar.add(list(d.keys())[i], data, d[list(d.keys())[i]], is_datazoom_show=True, datazoom_type='both', datazoom_range=[10, 25],mark_line=[\"average\"], mark_point=[\"max\", \"min\"])\n",
    "bar.render(\"2015年12月.html\")\n",
    "grid.add(bar)"
   ]
  },
  {
   "cell_type": "code",
   "execution_count": 19,
   "metadata": {},
   "outputs": [],
   "source": [
    "grid.render(\"2015年.html\")"
   ]
  }
 ],
 "metadata": {
  "kernelspec": {
   "display_name": "Python 3",
   "language": "python",
   "name": "python3"
  },
  "language_info": {
   "codemirror_mode": {
    "name": "ipython",
    "version": 3
   },
   "file_extension": ".py",
   "mimetype": "text/x-python",
   "name": "python",
   "nbconvert_exporter": "python",
   "pygments_lexer": "ipython3",
   "version": "3.6.3"
  }
 },
 "nbformat": 4,
 "nbformat_minor": 2
}
