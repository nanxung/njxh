{
 "cells": [
  {
   "cell_type": "code",
   "execution_count": 219,
   "metadata": {},
   "outputs": [],
   "source": [
    "import pandas as pd\n",
    "import numpy as np\n",
    "sname=[str(i)+\"月\" for i in range(1,13)]"
   ]
  },
  {
   "cell_type": "code",
   "execution_count": 220,
   "metadata": {},
   "outputs": [],
   "source": [
    "data=pd.read_excel(\"./南京新华2015年市场部日报.xls\",sheet_name=sname[0],header=None)"
   ]
  },
  {
   "cell_type": "code",
   "execution_count": 221,
   "metadata": {},
   "outputs": [],
   "source": [
    "date=data.values[:,0][1:32]"
   ]
  },
  {
   "cell_type": "code",
   "execution_count": 222,
   "metadata": {},
   "outputs": [],
   "source": [
    "def getValues0(n):\n",
    "    date=data.values[:,0][1:n]\n",
    "    d={}\n",
    "    s=['移动端','网络端','上门量']\n",
    "    for i in range(3):\n",
    "        d[s[i]]=data.values[:,1+i][1:n]\n",
    "    return date,d,s\n",
    "def getValues(n):\n",
    "    date=data.values[:,0][1:n]\n",
    "    d={}\n",
    "    s=['移动端','网络端','上门量']\n",
    "    for i in range(3):\n",
    "        d[s[i]]=data.values[:,4+i][1:n]\n",
    "    return date,d,s"
   ]
  },
  {
   "cell_type": "code",
   "execution_count": 223,
   "metadata": {},
   "outputs": [],
   "source": [
    "data1,d,s=getValues(32)\n",
    "data0,d0,s0=getValues(32)"
   ]
  },
  {
   "cell_type": "code",
   "execution_count": 224,
   "metadata": {},
   "outputs": [
    {
     "data": {
      "text/plain": [
       "'移动端'"
      ]
     },
     "execution_count": 224,
     "metadata": {},
     "output_type": "execute_result"
    }
   ],
   "source": [
    "list(d.keys())[0]\n"
   ]
  },
  {
   "cell_type": "code",
   "execution_count": 225,
   "metadata": {},
   "outputs": [],
   "source": [
    "from pyecharts import Bar, Line, Grid,Overlap,Timeline\n",
    "from pyecharts import Page\n",
    "grid = Page()\n",
    "timeline = Timeline(is_auto_play=True, timeline_bottom=0,height=800,width=1600)\n",
    "\n"
   ]
  },
  {
   "cell_type": "code",
   "execution_count": 226,
   "metadata": {},
   "outputs": [],
   "source": [
    "bar = Bar(\"2014-2015年1月咨询量\",\"折线为14年数据走向\",height=800,width=1600)\n",
    "line = Line()\n",
    "overlap = Overlap(height=800,width=1600)\n",
    "for i in range(3):\n",
    "        #print(list(d.keys())[i], data, d[list(d.keys())[i]])\n",
    "    bar.add(list(d.keys())[i], data1, d[list(d.keys())[i]], is_datazoom_show=True, datazoom_type='both', datazoom_range=[10, 25],mark_line=[\"average\"], mark_point=[\"max\", \"min\"])\n",
    "    line.add(list(d.keys())[i], data1, d[list(d.keys())[i]], is_datazoom_show=True, datazoom_type='both', datazoom_range=[10, 25],mark_line=[\"average\"], mark_point=[\"max\", \"min\"])\n",
    "overlap.add(bar)\n",
    "overlap.add(line, yaxis_index=1, is_add_yaxis=True)\n",
    "timeline.add(overlap, '1月')\n"
   ]
  },
  {
   "cell_type": "code",
   "execution_count": 227,
   "metadata": {},
   "outputs": [],
   "source": [
    "data=pd.read_excel(\"./南京新华2015年市场部日报.xls\",sheet_name=sname[1],header=None)\n",
    "data1,d,s=getValues(29)\n",
    "data0,d0,s0=getValues0(29)\n",
    "bar = Bar(\"2014-2015年2月咨询量\",\"折线为14年数据走向\",height=800,width=1600)\n",
    "line = Line()\n",
    "overlap = Overlap(height=800,width=1600)\n",
    "for i in range(3):\n",
    "        #print(list(d.keys())[i], data, d[list(d.keys())[i]])\n",
    "    bar.add(list(d.keys())[i], data1, d[list(d.keys())[i]], is_datazoom_show=True, datazoom_type='both', datazoom_range=[10, 25],mark_line=[\"average\"], mark_point=[\"max\", \"min\"])\n",
    "    line.add(list(d0.keys())[i], data0, d0[list(d0.keys())[i]], is_datazoom_show=True, datazoom_type='both', datazoom_range=[10, 25],mark_line=[\"average\"], mark_point=[\"max\", \"min\"])\n",
    "overlap.add(bar)\n",
    "overlap.add(line, yaxis_index=1, is_add_yaxis=True)\n",
    "timeline.add(overlap, '2月')\n"
   ]
  },
  {
   "cell_type": "code",
   "execution_count": 228,
   "metadata": {},
   "outputs": [],
   "source": [
    "data=pd.read_excel(\"./南京新华2015年市场部日报.xls\",sheet_name=sname[2],header=None)\n",
    "data1,d,s=getValues(32)\n",
    "data0,d0,s0=getValues0(32)\n",
    "bar = Bar(\"2014-2015年3月咨询量\",\"折线为14年数据走向\",height=800,width=1600)\n",
    "line = Line()\n",
    "overlap = Overlap(height=800,width=1600)\n",
    "for i in range(3):\n",
    "        #print(list(d.keys())[i], data, d[list(d.keys())[i]])\n",
    "    bar.add(list(d.keys())[i], data1, d[list(d.keys())[i]], is_datazoom_show=True, datazoom_type='both', datazoom_range=[10, 25],mark_line=[\"average\"], mark_point=[\"max\", \"min\"])\n",
    "    line.add(list(d0.keys())[i], data0, d0[list(d.keys())[i]], is_datazoom_show=True, datazoom_type='both', datazoom_range=[10, 25],mark_line=[\"average\"], mark_point=[\"max\", \"min\"])\n",
    "overlap.add(bar)\n",
    "overlap.add(line, yaxis_index=1, is_add_yaxis=True)\n",
    "timeline.add(overlap, '3月')\n"
   ]
  },
  {
   "cell_type": "code",
   "execution_count": 229,
   "metadata": {},
   "outputs": [],
   "source": [
    "data=pd.read_excel(\"./南京新华2015年市场部日报.xls\",sheet_name=sname[3],header=None)\n",
    "data1,d,s=getValues(31)\n",
    "data0,d0,s0=getValues0(31)\n",
    "bar = Bar(\"2014-2015年4月咨询量\",\"折线为14年数据走向\",height=800,width=1600)\n",
    "line = Line()\n",
    "overlap = Overlap(height=800,width=1600)\n",
    "for i in range(3):\n",
    "        #print(list(d.keys())[i], data, d[list(d.keys())[i]])\n",
    "    bar.add(list(d.keys())[i], data1, d[list(d.keys())[i]], is_datazoom_show=True, datazoom_type='both', datazoom_range=[10, 25],mark_line=[\"average\"], mark_point=[\"max\", \"min\"])\n",
    "    line.add(list(d0.keys())[i], data0, d0[list(d0.keys())[i]], is_datazoom_show=True, datazoom_type='both', datazoom_range=[10, 25],mark_line=[\"average\"], mark_point=[\"max\", \"min\"])\n",
    "overlap.add(bar)\n",
    "overlap.add(line, yaxis_index=1, is_add_yaxis=True)\n",
    "timeline.add(overlap, '4月')\n"
   ]
  },
  {
   "cell_type": "code",
   "execution_count": 230,
   "metadata": {},
   "outputs": [],
   "source": [
    "data=pd.read_excel(\"./南京新华2015年市场部日报.xls\",sheet_name=sname[4],header=None)\n",
    "data1,d,s=getValues(32)\n",
    "data0,d0,s0=getValues0(32)\n",
    "bar = Bar(\"2014-2015年5月咨询量\",\"折线为14年数据走向\",height=800,width=1600)\n",
    "line = Line()\n",
    "overlap = Overlap(height=800,width=1600)\n",
    "for i in range(3):\n",
    "        #print(list(d.keys())[i], data, d[list(d.keys())[i]])\n",
    "    bar.add(list(d.keys())[i], data1, d[list(d.keys())[i]], is_datazoom_show=True, datazoom_type='both', datazoom_range=[10, 25],mark_line=[\"average\"], mark_point=[\"max\", \"min\"])\n",
    "    line.add(list(d0.keys())[i], data0, d0[list(d.keys())[i]], is_datazoom_show=True, datazoom_type='both', datazoom_range=[10, 25],mark_line=[\"average\"], mark_point=[\"max\", \"min\"])\n",
    "overlap.add(bar)\n",
    "overlap.add(line, yaxis_index=1, is_add_yaxis=True)\n",
    "timeline.add(overlap, '5月')\n",
    "\n"
   ]
  },
  {
   "cell_type": "code",
   "execution_count": 231,
   "metadata": {},
   "outputs": [],
   "source": [
    "\n",
    "data=pd.read_excel(\"./南京新华2015年市场部日报.xls\",sheet_name=sname[5],header=None)\n",
    "\n",
    "data1,d,s=getValues(31)\n",
    "\n",
    "data0,d0,s0=getValues0(31)\n",
    "bar = Bar(\"2014-2015年6月咨询量\",\"折线为14年数据走向\",height=800,width=1600)\n",
    "line = Line()\n",
    "overlap = Overlap(height=800,width=1600)\n",
    "for i in range(3):\n",
    "        #print(list(d.keys())[i], data, d[list(d.keys())[i]])\n",
    "    bar.add(list(d.keys())[i], data1, d[list(d.keys())[i]], is_datazoom_show=True, datazoom_type='both', datazoom_range=[10, 25],mark_line=[\"average\"], mark_point=[\"max\", \"min\"])\n",
    "    line.add(list(d0.keys())[i], data0, d0[list(d0.keys())[i]], is_datazoom_show=True, datazoom_type='both', datazoom_range=[10, 25],mark_line=[\"average\"], mark_point=[\"max\", \"min\"])\n",
    "overlap.add(bar)\n",
    "overlap.add(line, yaxis_index=1, is_add_yaxis=True)\n",
    "timeline.add(overlap, '6月')\n"
   ]
  },
  {
   "cell_type": "code",
   "execution_count": 232,
   "metadata": {},
   "outputs": [],
   "source": [
    "data=pd.read_excel(\"./南京新华2015年市场部日报.xls\",sheet_name=sname[6],header=None)\n",
    "data1,d,s=getValues(32)\n",
    "data0,d0,s0=getValues0(32)\n",
    "bar = Bar(\"2014-2015年7月咨询量\",\"折线为14年数据走向\",height=800,width=1600)\n",
    "line = Line()\n",
    "overlap = Overlap(height=800,width=1600)\n",
    "for i in range(3):\n",
    "        #print(list(d.keys())[i], data, d[list(d.keys())[i]])\n",
    "    bar.add(list(d.keys())[i], data1, d[list(d.keys())[i]], is_datazoom_show=True, datazoom_type='both', datazoom_range=[10, 25],mark_line=[\"average\"], mark_point=[\"max\", \"min\"])\n",
    "    line.add(list(d0.keys())[i], data0, d0[list(d0.keys())[i]], is_datazoom_show=True, datazoom_type='both', datazoom_range=[10, 25],mark_line=[\"average\"], mark_point=[\"max\", \"min\"])\n",
    "overlap.add(bar)\n",
    "overlap.add(line, yaxis_index=1, is_add_yaxis=True)\n",
    "timeline.add(overlap, '7月')\n"
   ]
  },
  {
   "cell_type": "code",
   "execution_count": 233,
   "metadata": {},
   "outputs": [],
   "source": [
    "data=pd.read_excel(\"./南京新华2015年市场部日报.xls\",sheet_name=sname[7],header=None)\n",
    "data1,d,s=getValues(32)\n",
    "data0,d0,s0=getValues0(32)\n",
    "bar = Bar(\"2014-2015年8月咨询量\",\"折线为14年数据走向\",height=800,width=1600)\n",
    "line = Line()\n",
    "overlap = Overlap(height=800,width=1600)\n",
    "for i in range(3):\n",
    "        #print(list(d.keys())[i], data, d[list(d.keys())[i]])\n",
    "    bar.add(list(d.keys())[i], data1, d[list(d.keys())[i]], is_datazoom_show=True, datazoom_type='both', datazoom_range=[10, 25],mark_line=[\"average\"], mark_point=[\"max\", \"min\"])\n",
    "    line.add(list(d0.keys())[i], data0, d0[list(d0.keys())[i]], is_datazoom_show=True, datazoom_type='both', datazoom_range=[10, 25],mark_line=[\"average\"], mark_point=[\"max\", \"min\"])\n",
    "overlap.add(bar)\n",
    "overlap.add(line, yaxis_index=1, is_add_yaxis=True)\n",
    "timeline.add(overlap, '8月')\n"
   ]
  },
  {
   "cell_type": "code",
   "execution_count": 234,
   "metadata": {},
   "outputs": [],
   "source": [
    "data=pd.read_excel(\"./南京新华2015年市场部日报.xls\",sheet_name=sname[8],header=None)\n",
    "data1,d,s=getValues(31)\n",
    "data0,d0,s0=getValues(31)\n",
    "bar = Bar(\"2014-2015年9月咨询量\",\"折线为14年数据走向\",height=800,width=1600)\n",
    "line = Line()\n",
    "overlap = Overlap(height=800,width=1600)\n",
    "for i in range(3):\n",
    "        #print(list(d.keys())[i], data, d[list(d.keys())[i]])\n",
    "    bar.add(list(d.keys())[i], data1, d[list(d.keys())[i]], is_datazoom_show=True, datazoom_type='both', datazoom_range=[10, 25],mark_line=[\"average\"], mark_point=[\"max\", \"min\"])\n",
    "    line.add(list(d0.keys())[i], data0, d0[list(d0.keys())[i]], is_datazoom_show=True, datazoom_type='both', datazoom_range=[10, 25],mark_line=[\"average\"], mark_point=[\"max\", \"min\"])\n",
    "overlap.add(bar)\n",
    "overlap.add(line, yaxis_index=1, is_add_yaxis=True)\n",
    "timeline.add(overlap, '9月')\n"
   ]
  },
  {
   "cell_type": "code",
   "execution_count": 235,
   "metadata": {},
   "outputs": [],
   "source": [
    "data=pd.read_excel(\"./南京新华2015年市场部日报.xls\",sheet_name=sname[9],header=None)\n",
    "data1,d,s=getValues(32)\n",
    "data0,d0,s0=getValues0(32)\n",
    "bar = Bar(\"2014-2015年10月咨询量\",\"折线为14年数据走向\",height=800,width=1600)\n",
    "line = Line()\n",
    "overlap = Overlap(height=800,width=1600)\n",
    "for i in range(3):\n",
    "        #print(list(d.keys())[i], data, d[list(d.keys())[i]])\n",
    "    bar.add(list(d.keys())[i], data1, d[list(d.keys())[i]], is_datazoom_show=True, datazoom_type='both', datazoom_range=[10, 25],mark_line=[\"average\"], mark_point=[\"max\", \"min\"])\n",
    "    line.add(list(d0.keys())[i], data0, d0[list(d0.keys())[i]], is_datazoom_show=True, datazoom_type='both', datazoom_range=[10, 25],mark_line=[\"average\"], mark_point=[\"max\", \"min\"])\n",
    "overlap.add(bar)\n",
    "overlap.add(line, yaxis_index=1, is_add_yaxis=True)\n",
    "timeline.add(overlap, '10月')\n"
   ]
  },
  {
   "cell_type": "code",
   "execution_count": 236,
   "metadata": {},
   "outputs": [],
   "source": [
    "data=pd.read_excel(\"./南京新华2015年市场部日报.xls\",sheet_name=sname[10],header=None)\n",
    "data1,d,s=getValues(31)\n",
    "data0,d0,s0=getValues0(31)\n",
    "bar = Bar(\"2014-2015年11月咨询量\",\"折线为14年数据走向\",height=800,width=1600)\n",
    "line = Line()\n",
    "overlap = Overlap(height=800,width=1600)\n",
    "for i in range(3):\n",
    "        #print(list(d.keys())[i], data, d[list(d.keys())[i]])\n",
    "    bar.add(list(d.keys())[i], data1, d[list(d.keys())[i]], is_datazoom_show=True, datazoom_type='both', datazoom_range=[10, 25],mark_line=[\"average\"], mark_point=[\"max\", \"min\"])\n",
    "    line.add(list(d0.keys())[i], data0, d0[list(d0.keys())[i]], is_datazoom_show=True, datazoom_type='both', datazoom_range=[10, 25],mark_line=[\"average\"], mark_point=[\"max\", \"min\"])\n",
    "overlap.add(bar)\n",
    "overlap.add(line, yaxis_index=1, is_add_yaxis=True)\n",
    "timeline.add(overlap, '11月')\n"
   ]
  },
  {
   "cell_type": "code",
   "execution_count": 237,
   "metadata": {},
   "outputs": [],
   "source": [
    "data=pd.read_excel(\"./南京新华2015年市场部日报.xls\",sheet_name=sname[11],header=None)\n",
    "data1,d,s=getValues(32)\n",
    "data0,d0,s0=getValues0(32)\n",
    "bar = Bar(\"2014-2015年12月咨询量\",\"折线为14年数据走向\",height=800,width=1600)\n",
    "line = Line()\n",
    "overlap = Overlap(height=800,width=1600)\n",
    "for i in range(3):\n",
    "        #print(list(d.keys())[i], data, d[list(d.keys())[i]])\n",
    "    bar.add(list(d.keys())[i], data1, d[list(d.keys())[i]], is_datazoom_show=True,datazoom_type='both',  datazoom_range=[10, 25],mark_line=[\"average\"], mark_point=[\"max\", \"min\"])\n",
    "    line.add(list(d0.keys())[i], data0, d0[list(d0.keys())[i]], is_datazoom_show=True,datazoom_type='both',  datazoom_range=[10, 25],mark_line=[\"average\"], mark_point=[\"max\", \"min\"])\n",
    "overlap.add(bar)\n",
    "overlap.add(line, yaxis_index=1, is_add_yaxis=True)\n",
    "timeline.add(overlap, '12月')\n"
   ]
  },
  {
   "cell_type": "code",
   "execution_count": 238,
   "metadata": {},
   "outputs": [],
   "source": [
    "timeline.render(\"2014-2015年对比.html\")"
   ]
  }
 ],
 "metadata": {
  "kernelspec": {
   "display_name": "Python 3",
   "language": "python",
   "name": "python3"
  },
  "language_info": {
   "codemirror_mode": {
    "name": "ipython",
    "version": 3
   },
   "file_extension": ".py",
   "mimetype": "text/x-python",
   "name": "python",
   "nbconvert_exporter": "python",
   "pygments_lexer": "ipython3",
   "version": "3.6.3"
  }
 },
 "nbformat": 4,
 "nbformat_minor": 2
}
